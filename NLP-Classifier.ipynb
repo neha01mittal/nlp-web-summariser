{
 "cells": [
  {
   "cell_type": "code",
   "execution_count": null,
   "metadata": {
    "collapsed": true
   },
   "outputs": [],
   "source": [
    "import pandas as pd\n",
    "import numpy as np\n",
    "from sklearn.feature_extraction.text import CountVectorizer\n",
    "\n",
    "from sklearn.model_selection import train_test_split\n",
    "from sklearn.feature_extraction.text import TfidfTransformer\n"
   ]
  },
  {
   "cell_type": "code",
   "execution_count": 2,
   "metadata": {},
   "outputs": [],
   "source": [
    "HEADING_LIST = ['h1','h2','h3','h4','h5','h6']\n",
    "EMPHASISED_LIST = ['strong','b','a', 'blockquote', 'cite', 'em','i','mark','q','pre','u']\n",
    "\n",
    "webpage_data = pd.read_csv(\"webpages.csv\", low_memory=False, encoding = \"ISO-8859-1\")\n",
    "tags =  list(webpage_data.Tag)\n",
    "urls =  list(webpage_data.URL)\n",
    "sentences =  list(webpage_data.Sentence)\n",
    "y_true = list(webpage_data.TrueValue)\n",
    "webpage_list = list(zip(urls, sentences, tags, y_true))"
   ]
  },
  {
   "cell_type": "code",
   "execution_count": 3,
   "metadata": {
    "collapsed": true
   },
   "outputs": [],
   "source": [
    "train, test = train_test_split(webpage_list, test_size = 0.33, random_state = 49)\n"
   ]
  },
  {
   "cell_type": "code",
   "execution_count": null,
   "metadata": {},
   "outputs": [],
   "source": [
    "train"
   ]
  },
  {
   "cell_type": "code",
   "execution_count": 4,
   "metadata": {},
   "outputs": [
    {
     "data": {
      "text/plain": [
       "(13532, 10443)"
      ]
     },
     "execution_count": 4,
     "metadata": {},
     "output_type": "execute_result"
    }
   ],
   "source": [
    "X_train = [sentence for url, sentence, tag, ytrue in train]\n",
    "Y_train = np.array([ytrue for url, sentence, tag, ytrue in train], dtype = 'float')\n",
    "X_test = [sentence for url, sentence, tag, ytrue in test]\n",
    "Y_test = np.array([ytrue for url, sentence, tag, ytrue in test], dtype = 'float')\n",
    "count_vect = CountVectorizer()\n",
    "X_train_counts = count_vect.fit_transform(X_train)\n",
    "X_train_counts.shape"
   ]
  },
  {
   "cell_type": "code",
   "execution_count": 20,
   "metadata": {},
   "outputs": [
    {
     "data": {
      "text/plain": [
       "(13532, 10443)"
      ]
     },
     "execution_count": 20,
     "metadata": {},
     "output_type": "execute_result"
    }
   ],
   "source": [
    "tfidf_transformer = TfidfTransformer()\n",
    "X_train_tfidf = tfidf_transformer.fit_transform(X_train_counts)\n",
    "X_train_tfidf.shape"
   ]
  },
  {
   "cell_type": "code",
   "execution_count": null,
   "metadata": {},
   "outputs": [],
   "source": []
  },
  {
   "cell_type": "code",
   "execution_count": 25,
   "metadata": {},
   "outputs": [
    {
     "data": {
      "text/plain": [
       "(13532, 3)"
      ]
     },
     "execution_count": 25,
     "metadata": {},
     "output_type": "execute_result"
    }
   ],
   "source": [
    "\n",
    "is_emphasised = np.array([1 if tag in EMPHASISED_LIST else 0 for url, sentence, tag, y_label in train])\n",
    "is_heading = np.array([1 if tag in HEADING_LIST else 0 for url, sentence, tag, y_label in train])\n",
    "is_title = np.array([1 if tag == 'title' else 0 for url, sentence, tag, y_label in train])\n",
    "features = np.column_stack((is_heading, is_emphasised, is_title))\n",
    "features.shape"
   ]
  },
  {
   "cell_type": "code",
   "execution_count": 13,
   "metadata": {},
   "outputs": [
    {
     "data": {
      "text/plain": [
       "(13532, 10446)"
      ]
     },
     "execution_count": 13,
     "metadata": {},
     "output_type": "execute_result"
    }
   ],
   "source": [
    "from scipy.sparse import coo_matrix, hstack\n",
    "A = coo_matrix(X_train_tfidf)\n",
    "B = coo_matrix(features)\n",
    "C =hstack([A,B])\n",
    "C.shape\n",
    "Y_train.shape\n",
    "\n",
    "C.shape"
   ]
  },
  {
   "cell_type": "code",
   "execution_count": 10,
   "metadata": {},
   "outputs": [
    {
     "data": {
      "text/plain": [
       "(6666, 10443)"
      ]
     },
     "execution_count": 10,
     "metadata": {},
     "output_type": "execute_result"
    }
   ],
   "source": [
    "X_tests_counts = count_vect.transform(X_test)\n",
    "X_tests_tfidf = tfidf_transformer.transform(X_tests_counts)\n",
    "X_tests_counts.shape"
   ]
  },
  {
   "cell_type": "code",
   "execution_count": 11,
   "metadata": {},
   "outputs": [
    {
     "data": {
      "text/plain": [
       "(6666, 10443)"
      ]
     },
     "execution_count": 11,
     "metadata": {},
     "output_type": "execute_result"
    }
   ],
   "source": [
    "X_tests_tfidf = tfidf_transformer.transform(X_tests_counts)\n",
    "X_tests_tfidf.shape"
   ]
  },
  {
   "cell_type": "code",
   "execution_count": 28,
   "metadata": {},
   "outputs": [
    {
     "data": {
      "text/plain": [
       "(6666, 10446)"
      ]
     },
     "execution_count": 28,
     "metadata": {},
     "output_type": "execute_result"
    }
   ],
   "source": [
    "is_emphasised_test = np.array([1 if tag in EMPHASISED_LIST else 0 for url, sentence, tag, y_label in test])\n",
    "is_heading_test = np.array([1 if tag in HEADING_LIST else 0 for url, sentence, tag, y_label in test])\n",
    "is_title_test = np.array([1 if tag == 'title' else 0 for url, sentence, tag, y_label in test])\n",
    "features_test = np.column_stack((is_heading_test, is_emphasised_test, is_title_test))\n",
    "features_test.shape\n",
    "\n",
    "D = coo_matrix(X_tests_tfidf)\n",
    "E = coo_matrix(features_test)\n",
    "F =hstack([D,E])\n",
    "F.shape"
   ]
  },
  {
   "cell_type": "code",
   "execution_count": 29,
   "metadata": {},
   "outputs": [],
   "source": [
    "from sklearn import linear_model                                                                                                                                              \n",
    "\n",
    "lin = linear_model.LinearRegression() #initialize regressor                                                                                                                   \n",
    "\n",
    "lin.fit(C, Y_train) #fit training data                                                                                                                                  \n",
    "preds = lin.predict(F) #make prediction on X test set   "
   ]
  },
  {
   "cell_type": "code",
   "execution_count": 30,
   "metadata": {},
   "outputs": [
    {
     "data": {
      "text/plain": [
       "6666"
      ]
     },
     "execution_count": 30,
     "metadata": {},
     "output_type": "execute_result"
    }
   ],
   "source": [
    "len(preds)"
   ]
  },
  {
   "cell_type": "code",
   "execution_count": 35,
   "metadata": {},
   "outputs": [
    {
     "name": "stdout",
     "output_type": "stream",
     "text": [
      "Mean Absolute Error: \n",
      " 0.0963000117927\n",
      "Coefficients: \n",
      " [ 0.41695143  0.07709095 -0.27087183 ..., -0.00284868 -0.0095109   0.        ]\n",
      "Mean squared error: 0.04\n",
      "Variance score: -0.77\n"
     ]
    }
   ],
   "source": [
    "from sklearn import metrics    \n",
    "from sklearn.metrics import mean_squared_error, r2_score\n",
    "print('Mean Absolute Error: \\n',metrics.mean_absolute_error(Y_test, preds, multioutput='uniform_average')) #evaluate performance \n",
    "\n",
    "# The coefficients\n",
    "print('Coefficients: \\n', lin.coef_)\n",
    "# The mean squared error\n",
    "print(\"Mean squared error: %.2f\"\n",
    "      % mean_squared_error(Y_test, preds))\n",
    "# Explained variance score: 1 is perfect prediction\n",
    "print('Variance score: %.2f' % r2_score(Y_test, preds))"
   ]
  },
  {
   "cell_type": "code",
   "execution_count": null,
   "metadata": {
    "collapsed": true
   },
   "outputs": [],
   "source": [
    "def featurizer(train):\n",
    "    # create your list that will soon be a list of tuples - there is a tuple for each movie which contains \n",
    "    # a dictionary of the movie's features and its genre tag\n",
    "    total_feature_set = []\n",
    "    true_labels = []\n",
    "\n",
    "    # loop through the movies in the training set\n",
    "    for url, sentence, tag, y_label in train:\n",
    "        # for each movie, create a dictionary that will hold its features\n",
    "        feature_dict = {}\n",
    "        # loop through vocabulary and mark if each word is present or not (Boolean)\n",
    "        \n",
    "        feature_dict['is_heading'] = 1 if tag in HEADING_LIST else 0\n",
    "        feature_dict['is_emphasised'] = 1 if tag in EMPHASISED_LIST else 0\n",
    "        feature_dict['is_title'] = 1 if tag == 'title' else 0\n",
    "\n",
    "        total_feature_set.append([feature_dict['is_heading'], feature_dict['is_emphasised'], feature_dict['is_title']])\n",
    "        #append it all to the main feature set\n",
    "        true_labels.append(y_label)\n",
    "        \n",
    "    return (total_feature_set, true_labels)"
   ]
  },
  {
   "cell_type": "code",
   "execution_count": null,
   "metadata": {
    "collapsed": true
   },
   "outputs": [],
   "source": [
    "title_list = []\n",
    "for url, sentence, tag, y_label in train:\n",
    "    if tag == 'h1':\n",
    "        title_list.append(sentence)\n",
    "title_list"
   ]
  },
  {
   "cell_type": "code",
   "execution_count": null,
   "metadata": {},
   "outputs": [],
   "source": [
    "\n",
    "training_features, true_labels = featurizer(train)\n",
    "len(training_features)\n",
    "true_labels[0:10]"
   ]
  },
  {
   "cell_type": "code",
   "execution_count": 37,
   "metadata": {},
   "outputs": [
    {
     "name": "stdout",
     "output_type": "stream",
     "text": [
      "https://medium.com/p/83486f42118c\n"
     ]
    },
    {
     "data": {
      "text/plain": [
       "{'https://blog.heartsupport.com/a-letter-to-my-daughter-about-young-men-2bab2fca4971': ('Get updates',\n",
       "  0.30278869062572361),\n",
       " 'https://blog.prototypr.io/the-ideal-design-workflow-2c200b8e337d': ('and start creating the UI for your app',\n",
       "  0.26321332207678094),\n",
       " 'https://hackernoon.com/how-it-feels-to-learn-javascript-in-2016-d3a717dd577f': (' But they are not cool anymore',\n",
       "  0.0),\n",
       " 'https://m.signalvnoise.com/being-tired-isn-t-a-badge-of-honor-fa6d4c8cff4e': (' And thats OK, because the exhaustion is not sustained; its temporary',\n",
       "  0.20286659507372623),\n",
       " 'https://medium.com/@ev/welcome-to-medium-9e53ca408c48': ('Ev Williams',\n",
       "  0.86570956823959899),\n",
       " 'https://medium.com/@maxbraun/my-bathroom-mirror-is-smarter-than-yours-94b21c6671ba': (', and most recently',\n",
       "  0.23943631204430646),\n",
       " 'https://medium.com/@shitHRCcantsay/let-me-remind-you-fuckers-who-i-am-e6e8b297fe47': (' So stop making me dab on Ellen and just give me a fucking chance already',\n",
       "  0.17842984405861706),\n",
       " 'https://medium.com/@thatdavidhopkins/how-a-tv-sitcom-triggered-the-downfall-of-western-civilization-336e8ccf7dd0': (' Just ask Green Day; their album',\n",
       "  0.30012736606720491),\n",
       " 'https://medium.com/@theonlytoby/history-tells-us-what-will-happen-next-with-brexit-trump-a3fefd154714': ('But at the time people dont realise theyre embarking on a route that will lead to a destruction period',\n",
       "  0.23181245099911846),\n",
       " 'https://medium.com/@trentlapinski/dear-democrats-read-this-if-you-do-not-understand-why-trump-won-5a0cdb13c597': ('This is the problem with America today, the technology that was supposed to bring us together actually isolated us into echo chambers and drove us further apart',\n",
       "  0.30276772834831234),\n",
       " 'https://medium.com/an-idea-for-you/the-two-minutes-it-takes-to-read-this-will-improve-your-writing-forever-82a7d01441d1': ('Subscribe to my newsletter',\n",
       "  0.12090384993946857),\n",
       " 'https://medium.com/better-people/slack-i-m-breaking-up-with-you-54600ace03ea': ('Youre splitting my attention into a thousand tinypieces',\n",
       "  0.22531160830536145),\n",
       " 'https://medium.com/chris-messina/silicon-valley-is-all-wrong-about-the-airpods-8204ede08f0f': (' And yet, we look to him and other folks of his ilk to understand Apples moves',\n",
       "  0.26682101754542276),\n",
       " 'https://medium.com/desk-of-van-schneider/work-life-balance-is-bullshit-f51bf8b3767': ('But what you dont need is life/work balance, because if you do, you might need to make some drastic changes with either one of them',\n",
       "  0.40191362463076707),\n",
       " 'https://medium.com/p/124be62f0751': ('Im not telling you to lie',\n",
       "  0.29317152522046036),\n",
       " 'https://medium.com/p/1b7372655938': ('Another great reason to create a morning ritual it is to avoid mental fatigue',\n",
       "  0.25882353517753875),\n",
       " 'https://medium.com/p/1df945c09ac6': ('In short, many have nailed this on the head',\n",
       "  0.68178037353618581),\n",
       " 'https://medium.com/p/1f135f7e1dec': (' Plan out your week of meals',\n",
       "  0.36514513141811045),\n",
       " 'https://medium.com/p/263ab694e60e': ('Get updates', 0.11661657242986256),\n",
       " 'https://medium.com/p/26be75072f13': ('What games did you play at recess?',\n",
       "  0.0),\n",
       " 'https://medium.com/p/27b489a39d1a': ('is out now', 0.31002894393440239),\n",
       " 'https://medium.com/p/2a1841f1335d': ('A unique perspective on what it takes to succeed inlife',\n",
       "  0.12152267449274184),\n",
       " 'https://medium.com/p/2c3f948ead98': (' In everything he has done since, with such accomplishment, and with enough room still to experience life so richly',\n",
       "  0.11747807644374386),\n",
       " 'https://medium.com/p/2e953f1c5efb': (' This causes beginners often think to themselves:',\n",
       "  0.3636366720696777),\n",
       " 'https://medium.com/p/2eb1fe15a426': ('Follow Matter on',\n",
       "  0.29820802956596165),\n",
       " 'https://medium.com/p/328b95c2fd0b': ('What I SentZack', 0.29433996499829157),\n",
       " 'https://medium.com/p/4191574378': (' Its caused me no end of angst that I couldnt make our products as great as I wanted to in the past',\n",
       "  0.82222675091693631),\n",
       " 'https://medium.com/p/482765ee3503': ('Nick Crocker', 0.62555218561696102),\n",
       " 'https://medium.com/p/48f36e48d4cb': (' We want to create a platform that enables people to make an impression on others',\n",
       "  0.13262104397349633),\n",
       " 'https://medium.com/p/4c59524d650d': (' We are at the beginning of a transition',\n",
       "  0.32472376651059259),\n",
       " 'https://medium.com/p/503c38c131fe': ('There is a famous study of rats, wired up with electrodes on their brains',\n",
       "  0.24417138523516282),\n",
       " 'https://medium.com/p/559d4e805cda': ('cap height', 0.23834243017259005),\n",
       " 'https://medium.com/p/597cde9ee9d4': ('Dont Fuck Up theCulture',\n",
       "  0.079552743083146332),\n",
       " 'https://medium.com/p/5c5ec7117908': (' Slack is really fun to use',\n",
       "  0.25843811331627087),\n",
       " 'https://medium.com/p/62ae4bcbe01b': ('Stock photos that dontsuck',\n",
       "  0.14972752482611845),\n",
       " 'https://medium.com/p/6df13d23689': (' E', 0.2368984661312119),\n",
       " 'https://medium.com/p/72c6f8bec7df': (' We celebrated milestones with tequila',\n",
       "  0.16243038257237735),\n",
       " 'https://medium.com/p/7af5d5f28038': ('character, at least one',\n",
       "  0.31034468165895518),\n",
       " 'https://medium.com/p/7d894cbaa084': ('5M valuation', 0.28950961038954426),\n",
       " 'https://medium.com/p/83486f42118c': ('You want people to care?',\n",
       "  0.36866326400053023),\n",
       " 'https://medium.com/p/8dc34fbe592b': ('Waking up early gives you time to think before the buzz of the day begins',\n",
       "  0.10400895185494005),\n",
       " 'https://medium.com/p/90c75eb7c5b0': ('This is a story about two roadsShould and Must',\n",
       "  0.30008911942001576),\n",
       " 'https://medium.com/p/9216e1c9da7d': (' Magic!', 0.14944924655770581),\n",
       " 'https://medium.com/p/926eb80d64e3': (' On the other endones that are over embellished with gimmicky animation',\n",
       "  0.20720036991176227),\n",
       " 'https://medium.com/p/9bf1e69e888c': (' One thing about being polite is that you know that within you there lurks an incredibly impolite person',\n",
       "  0.22139767858934606),\n",
       " 'https://medium.com/p/9eba5eef2976': (' Six weeks after my daughter was born, I was diagnosed with cancer',\n",
       "  0.31322257739635706),\n",
       " 'https://medium.com/p/a387cc0c5db6': (' Read this one', 0.29893361104694349),\n",
       " 'https://medium.com/p/a988c17383a6': ('Scheduled Overtime Effect on Construction Projects, a report issued by The Business Roundtable in 1980 states',\n",
       "  0.38255629186508261),\n",
       " 'https://medium.com/p/b3d76f963142': (' Consumers had few expectations, and the barriers were extremely low',\n",
       "  0.38345952641011405),\n",
       " 'https://medium.com/p/b8115d6f2361': (' Whenever anyone said anything, Id think of a way to disagree',\n",
       "  0.10760097970016566),\n",
       " 'https://medium.com/p/b81483d2a0e6': ('Convergence has its place, but this is not it',\n",
       "  0.56814328920782409),\n",
       " 'https://medium.com/p/b9b035d39e2d': ('Advice from 30 year old me to 20 year oldme',\n",
       "  0.3350370111401606),\n",
       " 'https://medium.com/p/bad7c34842a2': (' Creating consumes',\n",
       "  0.24391764741606201),\n",
       " 'https://medium.com/p/be8b2dc0677': (' Dont compare your place in life toothers',\n",
       "  0.09810166153322511),\n",
       " 'https://medium.com/p/dc8526ea9ea8': ('Get updates', 0.28891080876702069),\n",
       " 'https://medium.com/p/e07b3cd5fd5b': ('The best way to get free photos',\n",
       "  0.12644453565630887),\n",
       " 'https://medium.com/p/e53ea8043a85': ('Dropbox was just easier to use than other backup/storage/sync solutions, and far better than the USB drive/self-email status quo',\n",
       "  0.24115388621502226),\n",
       " 'https://medium.com/p/ea0b02c504cd': ('Take Care ofYourself',\n",
       "  0.19329132930073911),\n",
       " 'https://medium.com/p/ead679cb506d': (' rest time in a given session',\n",
       "  0.27467767481422861),\n",
       " 'https://medium.com/p/ee7de959f3fe': (' It makes sure designers tackle real user problems and herewith reduce the risk of building something nobody wants',\n",
       "  0.10831566848066021),\n",
       " 'https://medium.com/p/f1611ceb759f': (' Do you think that changes anything, son?',\n",
       "  0.14354977640542343),\n",
       " 'https://medium.com/p/fba93eba6355': ('GIF animation', 0.26161208517224943),\n",
       " 'https://medium.com/p/fbe483d3b51e': ('The Stages of Design to a JuniorDesigner',\n",
       "  0.18704824363253489),\n",
       " 'https://medium.com/p/fd08c0babb57': (' THATS HOW I DISCOVERED YOU FUCKING SUCK AT LOOKING AT THINGS',\n",
       "  0.19981794905904959),\n",
       " 'https://medium.com/re-write/instagram-and-the-cult-of-the-attention-web-how-the-free-internet-is-eating-itself-909b5713055e': (' We are satisfied wading through poorly designed, ad-based experiences',\n",
       "  0.65254962977926123),\n",
       " 'https://medium.com/startup-grind/fuck-you-startup-world-ab6cc72fad0e': ('Always ask Why',\n",
       "  0.0),\n",
       " 'https://medium.com/startup-grind/i-got-scammed-by-a-silicon-valley-startup-574ced8acdff': (' Is this temporary or permanent? That will be determined upon my next job',\n",
       "  0.0),\n",
       " 'https://medium.com/swarm-nyc/complexion-reduction-a-new-trend-in-mobile-design-cef033a0b978': ('Sound familiar? The design differs slightly from the blueprint used by Instagram and Airbnb (they use solid icons! What the heck Apple?) but the key elements are there: large bold headlines, black and white UI',\n",
       "  0.296272143576295),\n",
       " 'https://medium.com/swlh/how-quitting-my-corporate-job-for-my-startup-dream-f-cked-my-life-up-3b6b3e29b318': ('My mom almost had a heart attack',\n",
       "  0.19039044366143854),\n",
       " 'https://medium.com/swlh/how-technology-hijacks-peoples-minds-from-a-magician-and-google-s-design-ethicist-56d62ef5edf3': ('keys to type a response',\n",
       "  0.33484041585461721),\n",
       " 'https://medium.com/swlh/the-future-of-design-is-emotional-5789ccde17aa': ('This piece and others in his series encourage viewers to empathize with the common chair by anthropomorphizing it',\n",
       "  0.29319981597504835),\n",
       " 'https://medium.com/the-coffeelicious/facebook-turned-me-down-the-job-rejection-letter-that-turned-into-a-4-billion-check-962c658d876c': ('earn that lucky break',\n",
       "  0.18396297381477336),\n",
       " 'https://medium.com/the-mission/10-incredible-quotes-to-guide-your-life-355aab49fcf4': (' We hurt other people',\n",
       "  0.36307958565233106),\n",
       " 'https://medium.com/the-mission/25-things-about-life-i-wish-i-had-known-10-years-ago-61d96e93a028': ('Money Is Not The Most Important Thing',\n",
       "  0.67830446781323506),\n",
       " 'https://medium.com/the-mission/50-ways-happier-healthier-and-more-successful-people-live-on-their-own-terms-31ba8f482448': (' Actually, weve become so dependent on caffeine that we use it to simply get back to our status-quo',\n",
       "  0.3287272412474519),\n",
       " 'https://medium.com/the-mission/8-things-every-person-should-do-before-8-a-m-cc0233e15c8d': (' Lots of ideas start flowing and I become way motivated to achieve my goals',\n",
       "  0.16170793050308258),\n",
       " 'https://medium.com/the-mission/be-a-fucking-weirdo-bb842a0250d': (' In immense ways',\n",
       "  0.28150990225999717),\n",
       " 'https://medium.com/the-mission/lfuck-working-hard-c41baa42b56d': ('If you like what you read be sure to it belowas a writer it means theworld',\n",
       "  0.24417138523516282),\n",
       " 'https://medium.com/the-mission/the-greatest-sales-deck-ive-ever-seen-4f4ef3391ba0': ('and then showing how the winners have shifted from product ownership to subscription services',\n",
       "  0.30531281349436601),\n",
       " 'https://medium.com/the-mission/the-most-motivational-statement-ever-in-3-words-84854eba5f13': (' We live in a world today where there is so much opportunity available to us, especially with the Internet',\n",
       "  0.0),\n",
       " 'https://medium.com/the-mission/this-is-what-i-do-before-8-am-5ff27fcc985c': ('When all of life is completely unpredictable, itd be fucking impossible to do anything else',\n",
       "  0.38797328090787253),\n",
       " 'https://medium.com/the-mission/what-are-people-working-on-in-coffee-shops-cdf351e28b6': ('Were taking this experiment global, and',\n",
       "  0.11661657242986256),\n",
       " 'https://medium.com/the-mission/your-life-is-tetris-stop-playing-it-like-chess-4baac6b2750d': (' I would invent problems where none were required and take on a victim mindset',\n",
       "  0.28011183316501326),\n",
       " 'https://medium.freecodecamp.com/5-key-learnings-from-the-post-bootcamp-job-search-9a07468d2331': ('Get updates',\n",
       "  0.25531864234425927),\n",
       " 'https://medium.freecodecamp.com/mark-zuckerberg-is-the-most-powerful-person-on-earth-but-is-he-responsible-5fbcaeb29ee1': ('Add to this the fact that, in VR, ads can be literally everywhere',\n",
       "  0.0),\n",
       " 'https://medium.freecodecamp.com/tor-signal-and-beyond-a-law-abiding-citizens-guide-to-privacy-1a593f2104c3': ('Step #3: OpenOrbot',\n",
       "  0.40783747110825586)}"
      ]
     },
     "execution_count": 37,
     "metadata": {},
     "output_type": "execute_result"
    }
   ],
   "source": [
    "cur_url = test[0][0]\n",
    "cur_max = 0.0\n",
    "best_sentence = ''\n",
    "dict_final = {}\n",
    "print(cur_url)\n",
    "for i in range(0, len(test)):\n",
    "    if cur_url == test[i][0]:\n",
    "        if cur_max < preds[i]:\n",
    "            cur_max = preds[i]\n",
    "            best_sentence = test[i][1]\n",
    "    else:\n",
    "        cur_max = max(preds[i], 0.0)\n",
    "        dict_final[cur_url] = (best_sentence, cur_max)\n",
    "        best_sentence = test[i][1]\n",
    "        cur_url = test[i][0]\n",
    "\n",
    "dict_final"
   ]
  },
  {
   "cell_type": "code",
   "execution_count": null,
   "metadata": {
    "collapsed": true
   },
   "outputs": [],
   "source": []
  },
  {
   "cell_type": "code",
   "execution_count": null,
   "metadata": {},
   "outputs": [],
   "source": []
  },
  {
   "cell_type": "code",
   "execution_count": null,
   "metadata": {
    "collapsed": true
   },
   "outputs": [],
   "source": []
  },
  {
   "cell_type": "code",
   "execution_count": null,
   "metadata": {},
   "outputs": [],
   "source": []
  },
  {
   "cell_type": "code",
   "execution_count": null,
   "metadata": {},
   "outputs": [],
   "source": []
  },
  {
   "cell_type": "code",
   "execution_count": null,
   "metadata": {},
   "outputs": [],
   "source": []
  },
  {
   "cell_type": "code",
   "execution_count": null,
   "metadata": {},
   "outputs": [],
   "source": []
  },
  {
   "cell_type": "code",
   "execution_count": null,
   "metadata": {},
   "outputs": [],
   "source": []
  },
  {
   "cell_type": "code",
   "execution_count": null,
   "metadata": {},
   "outputs": [],
   "source": []
  },
  {
   "cell_type": "code",
   "execution_count": null,
   "metadata": {},
   "outputs": [],
   "source": []
  },
  {
   "cell_type": "code",
   "execution_count": null,
   "metadata": {},
   "outputs": [],
   "source": []
  },
  {
   "cell_type": "code",
   "execution_count": null,
   "metadata": {},
   "outputs": [],
   "source": []
  },
  {
   "cell_type": "code",
   "execution_count": null,
   "metadata": {
    "collapsed": true
   },
   "outputs": [],
   "source": []
  }
 ],
 "metadata": {
  "kernelspec": {
   "display_name": "Python 3",
   "language": "python",
   "name": "python3"
  },
  "language_info": {
   "codemirror_mode": {
    "name": "ipython",
    "version": 3
   },
   "file_extension": ".py",
   "mimetype": "text/x-python",
   "name": "python",
   "nbconvert_exporter": "python",
   "pygments_lexer": "ipython3",
   "version": "3.6.2"
  }
 },
 "nbformat": 4,
 "nbformat_minor": 2
}
